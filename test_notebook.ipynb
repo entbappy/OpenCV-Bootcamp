{
 "cells": [
  {
   "cell_type": "code",
   "execution_count": 3,
   "id": "7ac46eaa",
   "metadata": {},
   "outputs": [
    {
     "name": "stdout",
     "output_type": "stream",
     "text": [
      "Hello\n",
      "Hello\n",
      "Hello\n"
     ]
    }
   ],
   "source": [
    "print(\"Hello\")\n",
    "print(\"Hello\")\n",
    "print(\"Hello\")"
   ]
  },
  {
   "cell_type": "code",
   "execution_count": 1,
   "id": "b2072b58",
   "metadata": {},
   "outputs": [],
   "source": [
    "#### Cropping & Recizing Image\n",
    "import cv2\n",
    "\n",
    "img = cv2.imread('Resources/lambo.png')\n",
    "# print(img.shape)\n",
    "# resized_img = cv2.resize(img, (300, 200))\n",
    "# print(resized_img.shape)\n",
    "# cv2.imshow('Output', img)\n",
    "# cv2.imshow('Resized_Output', resized_img)\n",
    "# cv2.waitKey(0)\n",
    "\n",
    "\n",
    "### Croping Image\n",
    "crop_img = img[0:200,200:500]\n",
    "cv2.imshow('Output', img)\n",
    "cv2.imshow('Crop_Output', crop_img)\n",
    "# cv2.waitKey(0)\n",
    "\n"
   ]
  },
  {
   "cell_type": "code",
   "execution_count": null,
   "id": "f93e84ff",
   "metadata": {},
   "outputs": [],
   "source": [
    "!pip install easyocr"
   ]
  }
 ],
 "metadata": {
  "kernelspec": {
   "display_name": "Python 3 (ipykernel)",
   "language": "python",
   "name": "python3"
  },
  "language_info": {
   "codemirror_mode": {
    "name": "ipython",
    "version": 3
   },
   "file_extension": ".py",
   "mimetype": "text/x-python",
   "name": "python",
   "nbconvert_exporter": "python",
   "pygments_lexer": "ipython3",
   "version": "3.7.13"
  }
 },
 "nbformat": 4,
 "nbformat_minor": 5
}
